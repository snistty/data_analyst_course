{
 "cells": [
  {
   "cell_type": "markdown",
   "metadata": {},
   "source": [
    "# Numpy--Python开源的科学计算工具包\n",
    "高级的数值编程工具\n",
    "* 强大的N纬数组对象：ndarray\n",
    "* 对数据结构数据进行计算（不用遍历循环）\n",
    "* 随机数、线性代数、傅立叶变换"
   ]
  },
  {
   "cell_type": "markdown",
   "metadata": {},
   "source": [
    "## 基础数据结构"
   ]
  },
  {
   "cell_type": "code",
   "execution_count": 3,
   "metadata": {},
   "outputs": [],
   "source": [
    "import numpy as np"
   ]
  },
  {
   "cell_type": "code",
   "execution_count": 7,
   "metadata": {},
   "outputs": [
    {
     "name": "stdout",
     "output_type": "stream",
     "text": [
      "(6,)\n",
      "6\n",
      "int64\n",
      "8\n",
      "<memory at 0x10e363708>\n"
     ]
    }
   ],
   "source": [
    "ar = np.array([1, 2, 3, 4, 5, 6]) # 创建一个一维数组\n",
    "print(ar, type(ar))\n",
    "print(ar.ndim) # 显示维度\n",
    "print(ar.shape) # 先行后列\n",
    "print(ar.size) # 总共元素个数\n",
    "print(ar.dtype) # 数组内数据的类型\n",
    "print(ar.itemsize) # 每个字节的大小\n",
    "print(ar.data) # 显示元素内所有数据的缓存区"
   ]
  },
  {
   "cell_type": "markdown",
   "metadata": {},
   "source": [
    "### 创建数组\n",
    "#### array()，可以是list/tuple/array/generator"
   ]
  },
  {
   "cell_type": "code",
   "execution_count": 11,
   "metadata": {},
   "outputs": [
    {
     "name": "stdout",
     "output_type": "stream",
     "text": [
      "[0 1 2 3 4 5 6 7 8 9]\n",
      "[0 1 2 3 4 5 6 7 8 9]\n",
      "[[1 2 3 4 5]\n",
      " [2 3 4 5 6]]\n"
     ]
    }
   ],
   "source": [
    "ar1 = np.array(range(10)) # python内置range\n",
    "print(ar1)\n",
    "ar2 = np.arange(10) # numpy内置arange，主要用法\n",
    "print(ar2)\n",
    "ar3 = np.array([[1, 2, 3, 4, 5], [2, 3, 4, 5, 6]]) # list\n",
    "print(ar3)"
   ]
  },
  {
   "cell_type": "markdown",
   "metadata": {},
   "source": [
    "#### linspace()，返回在间隔[开始，停止]上计算的num个均匀间隔样本  \n",
    "默认前闭后闭。endpoint==False，则为前闭后开;  \n",
    "默认不显示步长。retstep==True，显示步长"
   ]
  },
  {
   "cell_type": "code",
   "execution_count": 13,
   "metadata": {},
   "outputs": [
    {
     "name": "stdout",
     "output_type": "stream",
     "text": [
      "[10.  10.5 11.  11.5 12.  12.5 13.  13.5 14.  14.5 15.  15.5 16.  16.5\n",
      " 17.  17.5 18.  18.5 19.  19.5]\n"
     ]
    }
   ],
   "source": [
    "print(np.linspace(10, 20, num=20, endpoint=False))"
   ]
  },
  {
   "cell_type": "code",
   "execution_count": 21,
   "metadata": {},
   "outputs": [
    {
     "name": "stdout",
     "output_type": "stream",
     "text": [
      "[[0 0 0 0 0]\n",
      " [0 0 0 0 0]\n",
      " [0 0 0 0 0]] \n",
      "\n",
      "[[0 0 0 0 0]\n",
      " [0 0 0 0 0]] \n",
      "\n",
      "[[1. 1. 1. 1. 1.]\n",
      " [1. 1. 1. 1. 1.]\n",
      " [1. 1. 1. 1. 1.]] \n",
      "\n",
      "[[1 1 1 1 1]\n",
      " [1 1 1 1 1]] \n",
      "\n",
      "[[1. 0. 0. 0. 0.]\n",
      " [0. 1. 0. 0. 0.]\n",
      " [0. 0. 1. 0. 0.]\n",
      " [0. 0. 0. 1. 0.]\n",
      " [0. 0. 0. 0. 1.]]\n"
     ]
    }
   ],
   "source": [
    "print(np.zeros((3, 5), dtype=np.int), '\\n') # 直接创建为零的array\n",
    "print(np.zeros_like(ar3), '\\n') # 创建类似于ar3的零array\n",
    "print(np.ones((3, 5)), '\\n') # 创建一个均为1的array\n",
    "print(np.ones_like(ar3), '\\n') # 创建类似于ar3的全为1array\n",
    "print(np.eye(5)) # 创建一个5*5的单位矩阵"
   ]
  },
  {
   "cell_type": "markdown",
   "metadata": {},
   "source": [
    "## 通用函数"
   ]
  },
  {
   "cell_type": "markdown",
   "metadata": {},
   "source": [
    "### 数组形状\n",
    "* .T 转置\n",
    "* .reshape()  更改形状\n",
    "* .resize()  同reshape区分。修改大小，如果原数组大小不匹配，自动增减"
   ]
  },
  {
   "cell_type": "code",
   "execution_count": 31,
   "metadata": {},
   "outputs": [
    {
     "name": "stdout",
     "output_type": "stream",
     "text": [
      "[[0. 0. 0. 0. 0.]\n",
      " [0. 0. 0. 0. 0.]]\n",
      "[[0. 0.]\n",
      " [0. 0.]\n",
      " [0. 0.]\n",
      " [0. 0.]\n",
      " [0. 0.]]\n",
      "[[0. 0.]\n",
      " [0. 0.]\n",
      " [0. 0.]\n",
      " [0. 0.]\n",
      " [0. 0.]]\n",
      "[[0. 0. 0. 0. 0.]\n",
      " [0. 0. 0. 0. 0.]\n",
      " [0. 0. 0. 0. 0.]]\n"
     ]
    }
   ],
   "source": [
    "ar1 = np.zeros((2, 5))\n",
    "print(ar1)\n",
    "print(ar1.T)\n",
    "print(ar1.reshape(5, 2))\n",
    "print(np.resize(ar1, (3, 5))) # 修改为3，5的大小"
   ]
  },
  {
   "cell_type": "markdown",
   "metadata": {},
   "source": [
    "### 数组的复制\n",
    "* 直接等号赋值，实际仍然指向原数组\n",
    "* .copy()复制出一个新数组"
   ]
  },
  {
   "cell_type": "code",
   "execution_count": 36,
   "metadata": {},
   "outputs": [
    {
     "name": "stdout",
     "output_type": "stream",
     "text": [
      "ar2=ar1, True\n",
      "[  0   1 100   3   4   5   6   7   8   9] [  0   1 100   3   4   5   6   7   8   9]\n",
      "[  0   1 100 100   4   5   6   7   8   9] [  0   1 100   3   4   5   6   7   8   9]\n"
     ]
    }
   ],
   "source": [
    "ar1 = np.arange(10)\n",
    "ar2 = ar1\n",
    "print('ar2=ar1,', ar2 is ar1)\n",
    "ar1[2] = 100\n",
    "print(ar1, ar2) # 等号赋值，二者指向一个数组\n",
    "#########################\n",
    "ar3 = ar1.copy()\n",
    "ar1[3] = 100\n",
    "print(ar1, ar3) # copy()复制一个新数组"
   ]
  },
  {
   "cell_type": "code",
   "execution_count": 39,
   "metadata": {},
   "outputs": [
    {
     "name": "stdout",
     "output_type": "stream",
     "text": [
      "[0 1 2 3 4 5 6 7 8 9] \n",
      "\n",
      "[[0 1 2 3 4 5]\n",
      " [6 7 8 9 0 1]]\n",
      "[0 1 2 3 4 5 6 7 8 9] \n",
      "\n",
      "None\n",
      "[[0 1 2 3 4 5]\n",
      " [6 7 8 9 0 0]] \n",
      "\n"
     ]
    }
   ],
   "source": [
    "# resize的使用\n",
    "s = np.arange(10)\n",
    "print(s, '\\n')\n",
    "print(np.resize(s, (2, 6))) # 生成一个新数组\n",
    "print(s, '\\n')\n",
    "print(s.resize(2, 6)) # 没有生成一个新数组，在原数组基础上进行操作\n",
    "print(s, '\\n')"
   ]
  },
  {
   "cell_type": "markdown",
   "metadata": {},
   "source": [
    "### 数组类型转换 \n",
    ".astype()"
   ]
  },
  {
   "cell_type": "code",
   "execution_count": 40,
   "metadata": {},
   "outputs": [
    {
     "name": "stdout",
     "output_type": "stream",
     "text": [
      "[0. 1. 2. 3. 4. 5. 6. 7. 8. 9.] float64\n",
      "[0 1 2 3 4 5 6 7 8 9] int64\n"
     ]
    }
   ],
   "source": [
    "ar1 = np.arange(10, dtype=float)\n",
    "ar2 = ar1.astype(np.int64)\n",
    "print(ar1, ar1.dtype)\n",
    "print(ar2, ar2.dtype)"
   ]
  },
  {
   "cell_type": "markdown",
   "metadata": {},
   "source": [
    "### 数组堆叠\n",
    "* hstack() 横向连接\n",
    "* vstack() 纵向连接\n",
    "* stack() 连接，默认axis=0纵向连接，axis=1横向连接"
   ]
  },
  {
   "cell_type": "code",
   "execution_count": 51,
   "metadata": {},
   "outputs": [
    {
     "name": "stdout",
     "output_type": "stream",
     "text": [
      "[0 1 2 3 4] [5 6 7 8 9] \n",
      "\n",
      "[0 1 2 3 4 5 6 7 8 9]\n",
      "-----------\n",
      "[[1]\n",
      " [2]\n",
      " [3]] [['a']\n",
      " ['b']\n",
      " ['c']] \n",
      "\n",
      "[['1']\n",
      " ['2']\n",
      " ['3']\n",
      " ['a']\n",
      " ['b']\n",
      " ['c']]\n",
      "-----------\n",
      "[[0 1 2 3 4]\n",
      " [5 6 7 8 9]]\n",
      "[[0 5]\n",
      " [1 6]\n",
      " [2 7]\n",
      " [3 8]\n",
      " [4 9]]\n"
     ]
    }
   ],
   "source": [
    "# 横向连接\n",
    "a = np.arange(5)\n",
    "b = np.arange(5, 10)\n",
    "print(a, b, '\\n')\n",
    "print(np.hstack((a, b)))\n",
    "print('-----------')\n",
    "\n",
    "# 纵向连接\n",
    "a = np.array([[1], [2], [3]])\n",
    "b = np.array([['a'], ['b'], ['c']])\n",
    "print(a, b, '\\n')\n",
    "print(np.vstack((a, b)))\n",
    "print('-----------')\n",
    "\n",
    "# stack\n",
    "a = np.arange(5)\n",
    "b = np.arange(5, 10)\n",
    "print(np.stack((a, b), axis=0))\n",
    "print(np.stack((a, b), axis=1))"
   ]
  },
  {
   "cell_type": "markdown",
   "metadata": {},
   "source": [
    "### 数组拆分\n",
    "* hsplit()\n",
    "* vsplit()"
   ]
  },
  {
   "cell_type": "code",
   "execution_count": 55,
   "metadata": {},
   "outputs": [
    {
     "name": "stdout",
     "output_type": "stream",
     "text": [
      "[[ 0  1  2  3]\n",
      " [ 4  5  6  7]\n",
      " [ 8  9 10 11]\n",
      " [12 13 14 15]] \n",
      "\n",
      "[array([[ 0,  1],\n",
      "       [ 4,  5],\n",
      "       [ 8,  9],\n",
      "       [12, 13]]), array([[ 2,  3],\n",
      "       [ 6,  7],\n",
      "       [10, 11],\n",
      "       [14, 15]])] \n",
      "\n",
      "[array([[0, 1, 2, 3]]), array([[4, 5, 6, 7]]), array([[ 8,  9, 10, 11]]), array([[12, 13, 14, 15]])]\n"
     ]
    }
   ],
   "source": [
    "ar = np.arange(16).reshape(4, 4)\n",
    "print(ar, '\\n')\n",
    "print(np.hsplit(ar, 2), '\\n')\n",
    "print(np.vsplit(ar, 4))"
   ]
  },
  {
   "cell_type": "markdown",
   "metadata": {},
   "source": [
    "## 索引及切片"
   ]
  },
  {
   "cell_type": "markdown",
   "metadata": {},
   "source": [
    "### 基本索引及切片"
   ]
  },
  {
   "cell_type": "code",
   "execution_count": 56,
   "metadata": {},
   "outputs": [
    {
     "name": "stdout",
     "output_type": "stream",
     "text": [
      "[ 0  1  2  3  4  5  6  7  8  9 10 11 12 13 14 15 16 17 18 19]\n",
      "4\n",
      "[0 1 2]\n",
      "----------\n",
      "[[ 0  1  2  3]\n",
      " [ 4  5  6  7]\n",
      " [ 8  9 10 11]\n",
      " [12 13 14 15]]\n",
      "[ 8  9 10 11]\n",
      "10\n",
      "10\n"
     ]
    }
   ],
   "source": [
    "# 一维数组类似于list\n",
    "ar = np.arange(20)\n",
    "print(ar)\n",
    "print(ar[4])\n",
    "print(ar[:3])\n",
    "print('----------')\n",
    "\n",
    "# 二维数组类似于list的list\n",
    "ar = np.arange(16).reshape(4, 4)\n",
    "print(ar)\n",
    "print(ar[2])\n",
    "print(ar[2][2])\n",
    "print(ar[2, 2])"
   ]
  },
  {
   "cell_type": "markdown",
   "metadata": {},
   "source": [
    "### 布尔型索引及切片"
   ]
  },
  {
   "cell_type": "code",
   "execution_count": 59,
   "metadata": {},
   "outputs": [
    {
     "name": "stdout",
     "output_type": "stream",
     "text": [
      "[[ 0  1  2  3]\n",
      " [ 4  5  6  7]\n",
      " [ 8  9 10 11]]\n",
      "[[ 0  1  2  3]\n",
      " [ 8  9 10 11]]\n",
      "[[0 1]\n",
      " [4 5]\n",
      " [8 9]]\n",
      "---------\n",
      "\n",
      "[[False False False False]\n",
      " [False False  True  True]\n",
      " [ True  True  True  True]]\n",
      "[ 6  7  8  9 10 11]\n"
     ]
    }
   ],
   "source": [
    "ar = np.arange(12).reshape(3, 4)\n",
    "print(ar)\n",
    "i = np.array([True, False, True]) \n",
    "j = np.array([True, True, False, False])\n",
    "print(ar[i, :]) # 在第一纬度做判断\n",
    "print(ar[:, j]) # 在第二纬度做判断\n",
    "print('---------\\n')\n",
    "\n",
    "print(ar>5)\n",
    "print(ar[ar>5])"
   ]
  },
  {
   "cell_type": "markdown",
   "metadata": {},
   "source": [
    "### 数组索引及切片的值更改/复制\n",
    "当一个常数赋值给一个索引/切片时，会自动改变/传播原始数组"
   ]
  },
  {
   "cell_type": "code",
   "execution_count": 60,
   "metadata": {},
   "outputs": [
    {
     "name": "stdout",
     "output_type": "stream",
     "text": [
      "[0 1 2 3 4 5 6 7 8 9]\n",
      "[  0   1   2   3   4 100   6 200 200   9]\n"
     ]
    }
   ],
   "source": [
    "ar = np.arange(10)\n",
    "print(ar)\n",
    "ar[5] = 100\n",
    "ar[7:9] = 200\n",
    "print(ar)"
   ]
  },
  {
   "cell_type": "markdown",
   "metadata": {},
   "source": [
    "## 随机数\n",
    "numpy.random包含多种概率分布的随机样本"
   ]
  },
  {
   "cell_type": "code",
   "execution_count": 62,
   "metadata": {},
   "outputs": [
    {
     "name": "stdout",
     "output_type": "stream",
     "text": [
      "[[ 0.35132353 -1.41989721  0.00915843  0.33247811]\n",
      " [-0.37998641  0.40741483  0.2289659  -1.60274079]\n",
      " [ 0.59111889  1.34554307 -0.39165622  0.04355201]\n",
      " [ 0.70350161  1.73428028 -0.4680661  -0.60484237]] \n",
      "\n"
     ]
    }
   ],
   "source": [
    "# 标准正态分布\n",
    "print(np.random.normal(size=(4, 4)), '\\n')"
   ]
  },
  {
   "cell_type": "code",
   "execution_count": 65,
   "metadata": {},
   "outputs": [
    {
     "name": "stdout",
     "output_type": "stream",
     "text": [
      "0.4804052765041311\n",
      "[[0.61635228 0.79209186 0.04450497 0.28735703]\n",
      " [0.87521979 0.06705252 0.47565617 0.07034965]]\n",
      "-0.9851254958102285\n",
      "[[ 0.83869221  0.71138141  0.94021231 -0.3420251 ]\n",
      " [-0.33028745  0.63314498 -0.88768385  0.99400949]]\n"
     ]
    }
   ],
   "source": [
    "# 生成[0, 1)之间的随机浮点数或N纬浮点数组————均匀分布\n",
    "print(np.random.rand())\n",
    "print(np.random.rand(2, 4))\n",
    "\n",
    "# 生成[0, 1)之间的随机浮点数或N纬浮点数组————正态分布\n",
    "print(np.random.randn())\n",
    "print(np.random.randn(2, 4))"
   ]
  },
  {
   "cell_type": "code",
   "execution_count": 70,
   "metadata": {},
   "outputs": [
    {
     "name": "stdout",
     "output_type": "stream",
     "text": [
      "0\n",
      "7\n",
      "[0 1 0 1 1 1 0 1 0 0]\n",
      "[[44 27 26 48 17]\n",
      " [41 18 33 40 19]]\n"
     ]
    }
   ],
   "source": [
    "# 生成一个一定范围内的随机整数\n",
    "# random.randint(low, high=None, size=None, dtype='') \n",
    "# 如果high非None，取[low, high)之间的随机整数；\n",
    "# 如果high为None，取[0, low)之间的随机整数\n",
    "# size为生成多少个随机整数\n",
    "\n",
    "print(np.random.randint(2))\n",
    "print(np.random.randint(2, 10))\n",
    "print(np.random.randint(2, size=10))\n",
    "print(np.random.randint(10, 50, size=(2, 5)))"
   ]
  },
  {
   "cell_type": "markdown",
   "metadata": {},
   "source": [
    "## 数据的输入输出"
   ]
  },
  {
   "cell_type": "markdown",
   "metadata": {},
   "source": [
    "### 存储数组数据"
   ]
  },
  {
   "cell_type": "code",
   "execution_count": 74,
   "metadata": {},
   "outputs": [
    {
     "name": "stdout",
     "output_type": "stream",
     "text": [
      "[[0.97239789 0.03795755 0.12872722 0.25799825 0.07974997]\n",
      " [0.94437366 0.77667278 0.96777752 0.74123936 0.15916592]\n",
      " [0.08595364 0.44203063 0.6055497  0.42409651 0.48416684]\n",
      " [0.11723357 0.68578136 0.73415801 0.24982079 0.00714795]\n",
      " [0.41904401 0.25181826 0.38589261 0.33213207 0.42189269]]\n"
     ]
    }
   ],
   "source": [
    "ar = np.random.rand(5, 5)\n",
    "print(ar)\n",
    "np.save('arraydata.npy', ar)\n",
    "np.savetxt('arraydata.txt', ar, delimiter=',') # 以txt格式存储"
   ]
  },
  {
   "cell_type": "markdown",
   "metadata": {},
   "source": [
    "### 读取数组数据"
   ]
  },
  {
   "cell_type": "code",
   "execution_count": 75,
   "metadata": {},
   "outputs": [
    {
     "name": "stdout",
     "output_type": "stream",
     "text": [
      "[[0.97239789 0.03795755 0.12872722 0.25799825 0.07974997]\n",
      " [0.94437366 0.77667278 0.96777752 0.74123936 0.15916592]\n",
      " [0.08595364 0.44203063 0.6055497  0.42409651 0.48416684]\n",
      " [0.11723357 0.68578136 0.73415801 0.24982079 0.00714795]\n",
      " [0.41904401 0.25181826 0.38589261 0.33213207 0.42189269]]\n",
      "[[0.97239789 0.03795755 0.12872722 0.25799825 0.07974997]\n",
      " [0.94437366 0.77667278 0.96777752 0.74123936 0.15916592]\n",
      " [0.08595364 0.44203063 0.6055497  0.42409651 0.48416684]\n",
      " [0.11723357 0.68578136 0.73415801 0.24982079 0.00714795]\n",
      " [0.41904401 0.25181826 0.38589261 0.33213207 0.42189269]]\n"
     ]
    }
   ],
   "source": [
    "ar_load = np.load('arraydata.npy')\n",
    "print(ar_load)\n",
    "ar_loadtxt = np.loadtxt('arraydata.txt', delimiter=',') # 读取txt\n",
    "print(ar_loadtxt)"
   ]
  }
 ],
 "metadata": {
  "kernelspec": {
   "display_name": "Python 3",
   "language": "python",
   "name": "python3"
  },
  "language_info": {
   "codemirror_mode": {
    "name": "ipython",
    "version": 3
   },
   "file_extension": ".py",
   "mimetype": "text/x-python",
   "name": "python",
   "nbconvert_exporter": "python",
   "pygments_lexer": "ipython3",
   "version": "3.6.8"
  },
  "toc": {
   "base_numbering": 1,
   "nav_menu": {
    "height": "331px",
    "width": "262px"
   },
   "number_sections": true,
   "sideBar": true,
   "skip_h1_title": false,
   "title_cell": "Table of Contents",
   "title_sidebar": "Contents",
   "toc_cell": false,
   "toc_position": {
    "height": "calc(100% - 180px)",
    "left": "10px",
    "top": "150px",
    "width": "201px"
   },
   "toc_section_display": true,
   "toc_window_display": true
  }
 },
 "nbformat": 4,
 "nbformat_minor": 2
}
