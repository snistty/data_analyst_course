{
 "cells": [
  {
   "cell_type": "markdown",
   "metadata": {},
   "source": [
    "# 什么是数据可视化\n",
    "\n",
    "数据可视化，就是数据视觉，以数据为工具，以可视化为手段，目的是描述真实，探索世界\n",
    "可视化方向：美观/布局的事交给工具，把重心放在理解数据上\n",
    "    * 图表可视化进阶：seaborn  \n",
    "    seaborn是基于matplotlib的python数据可视化库，提供更高层次API封装，包括一些高级数据可视化等工具\n",
    "    * 交互可视化图表：bokeh\n",
    "    Bokeh可以建立一个可**交互**的线上可视化服务器  \n",
    "    * 关系数据可视化：gephi\n",
    "    gephi是一款开源免费跨平台的复杂网络分析软件，主要用于各种网络和复杂系统，动态和分层图的交互可视化与预测开源工具  \n",
    "    * 空间可视化：GIS"
   ]
  },
  {
   "cell_type": "markdown",
   "metadata": {},
   "source": [
    "# 数据可视化技术体系及方向\n",
    "1. 分析图表\n",
    "各式多维分析图，属于分析步骤\n",
    "2. 动态交互\n",
    "在一张图表中做交互功能，属于结果呈现步骤\n",
    "3. 商业智能\n",
    "核心处在于**仪表盘**，制作报表"
   ]
  },
  {
   "cell_type": "markdown",
   "metadata": {},
   "source": [
    "# 数据图表表达的逻辑原理\n",
    "图表类型选择指南.jpg  \n",
    "遵循几个原则：\n",
    "   * 认清需求，推敲点睛\n",
    "        * 需求决定数据，数据决定图表\n",
    "        * 数据影响需求\n",
    "        * 图表优化需求\n",
    "   * 深入了解，扎实掌握\n",
    "   * 善用软件，设计美学"
   ]
  },
  {
   "cell_type": "markdown",
   "metadata": {},
   "source": [
    "# 设计美学\n",
    "* 简洁化/扁平化\n",
    "不同的类型适合不同的场景，简单的排版比复杂排版要难\n",
    "* 信息图表"
   ]
  }
 ],
 "metadata": {
  "kernelspec": {
   "display_name": "Python 3",
   "language": "python",
   "name": "python3"
  },
  "language_info": {
   "codemirror_mode": {
    "name": "ipython",
    "version": 3
   },
   "file_extension": ".py",
   "mimetype": "text/x-python",
   "name": "python",
   "nbconvert_exporter": "python",
   "pygments_lexer": "ipython3",
   "version": "3.6.8"
  },
  "toc": {
   "base_numbering": 1,
   "nav_menu": {},
   "number_sections": true,
   "sideBar": true,
   "skip_h1_title": false,
   "title_cell": "Table of Contents",
   "title_sidebar": "Contents",
   "toc_cell": false,
   "toc_position": {},
   "toc_section_display": true,
   "toc_window_display": true
  }
 },
 "nbformat": 4,
 "nbformat_minor": 2
}
