{
 "cells": [
  {
   "cell_type": "markdown",
   "metadata": {},
   "source": [
    "# 缺失值处理\n",
    "数据缺失主要包括记录缺失/字段信息缺失等情况，其对数据分析有较大影响，容易导致结果不确定性显著增加。\n",
    "\n",
    "缺失值的处理：\n",
    "    1. 删除记录\n",
    "    2. 数据插补\n",
    "    3. 不处理"
   ]
  },
  {
   "cell_type": "code",
   "execution_count": 43,
   "metadata": {},
   "outputs": [],
   "source": [
    "import numpy as np\n",
    "import pandas as pd\n",
    "import matplotlib.pyplot as plt\n",
    "from scipy import stats\n",
    "%matplotlib inline"
   ]
  },
  {
   "cell_type": "markdown",
   "metadata": {},
   "source": [
    "## pandas处理方法\n",
    "* .isnull()：是否为空值  \n",
    "* .notnull()：是否非空值  "
   ]
  },
  {
   "cell_type": "code",
   "execution_count": 44,
   "metadata": {},
   "outputs": [
    {
     "name": "stdout",
     "output_type": "stream",
     "text": [
      "0    11.0\n",
      "1    12.0\n",
      "2    13.0\n",
      "3    14.0\n",
      "4     NaN\n",
      "5     NaN\n",
      "6    23.0\n",
      "7    45.0\n",
      "dtype: float64\n",
      "0    False\n",
      "1    False\n",
      "2    False\n",
      "3    False\n",
      "4     True\n",
      "5     True\n",
      "6    False\n",
      "7    False\n",
      "dtype: bool\n",
      "0     True\n",
      "1     True\n",
      "2     True\n",
      "3     True\n",
      "4    False\n",
      "5    False\n",
      "6     True\n",
      "7     True\n",
      "dtype: bool\n",
      "0     True\n",
      "1     True\n",
      "2     True\n",
      "3     True\n",
      "4     True\n",
      "5    False\n",
      "6    False\n",
      "7     True\n",
      "8     True\n",
      "Name: value1, dtype: bool\n",
      "   value1 value2\n",
      "0    12.0      a\n",
      "1    12.0      b\n",
      "2    34.0      c\n",
      "3    23.0      d\n",
      "4    55.0      e\n",
      "5     NaN    NaN\n",
      "6     NaN    NaN\n",
      "7    12.0      f\n",
      "8    34.0      g\n"
     ]
    }
   ],
   "source": [
    "s = pd.Series([11, 12, 13, 14, np.nan, np.nan, 23, 45])\n",
    "df = pd.DataFrame({\n",
    "        'value1': [12, 12, 34, 23, 55, np.nan, np.nan, 12, 34],\n",
    "        'value2': ['a', 'b', 'c', 'd', 'e', np.nan, np.nan, 'f', 'g']\n",
    "        }\n",
    "    )\n",
    "\n",
    "print(s)\n",
    "print(s.isnull())\n",
    "print(s.notnull())\n",
    "print(df['value1'].notnull())\n",
    "print(df[df.isnull()==False])"
   ]
  },
  {
   "cell_type": "markdown",
   "metadata": {},
   "source": [
    "## 删除缺失值：dropna()\n",
    "默认生成一组新数据；若设置参数inplace=True，则在原数据上修改"
   ]
  },
  {
   "cell_type": "code",
   "execution_count": 45,
   "metadata": {
    "scrolled": true
   },
   "outputs": [
    {
     "name": "stdout",
     "output_type": "stream",
     "text": [
      "0    11.0\n",
      "1    12.0\n",
      "2    13.0\n",
      "3    14.0\n",
      "4     NaN\n",
      "5     NaN\n",
      "6    23.0\n",
      "7    45.0\n",
      "dtype: float64\n",
      "0    11.0\n",
      "1    12.0\n",
      "2    13.0\n",
      "3    14.0\n",
      "6    23.0\n",
      "7    45.0\n",
      "dtype: float64\n",
      "0    11.0\n",
      "1    12.0\n",
      "2    13.0\n",
      "3    14.0\n",
      "4     NaN\n",
      "5     NaN\n",
      "6    23.0\n",
      "7    45.0\n",
      "dtype: float64\n",
      "0    11.0\n",
      "1    12.0\n",
      "2    13.0\n",
      "3    14.0\n",
      "6    23.0\n",
      "7    45.0\n",
      "dtype: float64\n"
     ]
    }
   ],
   "source": [
    "s = pd.Series([11, 12, 13, 14, np.nan, np.nan, 23, 45])\n",
    "print(s)\n",
    "print(s.dropna()) # 生成一个新DataFrame\n",
    "print(s)\n",
    "s.dropna(inplace=True) # 在原DataFrame上修改\n",
    "print(s)"
   ]
  },
  {
   "cell_type": "markdown",
   "metadata": {},
   "source": [
    "## 填充/替换缺失值\n",
    "### fillna填充  \n",
    "fillna对缺失值进行填充，语法为：  \n",
    "**fillna(value=None, method=None, axis=None, inplace=False, limit=None, downcast=None, **kwargs)**\n",
    "* method：选择填充的方式  \n",
    "pad/ffill -> 用之前的数据填充（向下填充）  \n",
    "backfill/bfill -> 用之后的数据填充（向上填充）  \n",
    "\n",
    "### replace替换  \n",
    "replace则是采用替换的方法，可以不仅对缺失值进行操作。语法为：  \n",
    "**replace(to_replace=None, value=None, inplace=False, limit=None, regex=False, method='pad', axis=None)**\n",
    "* to_replace：被替换的值\n",
    "* value：用于替换的值"
   ]
  },
  {
   "cell_type": "code",
   "execution_count": 46,
   "metadata": {},
   "outputs": [
    {
     "name": "stdout",
     "output_type": "stream",
     "text": [
      "0    11.0\n",
      "1    12.0\n",
      "2    13.0\n",
      "3    14.0\n",
      "4     NaN\n",
      "5     NaN\n",
      "6    23.0\n",
      "7    45.0\n",
      "dtype: float64\n",
      "\n",
      "以0填充缺失值\n",
      "0    11.0\n",
      "1    12.0\n",
      "2    13.0\n",
      "3    14.0\n",
      "4     0.0\n",
      "5     0.0\n",
      "6    23.0\n",
      "7    45.0\n",
      "dtype: float64\n"
     ]
    }
   ],
   "source": [
    "# fillna\n",
    "\n",
    "s = pd.Series([11, 12, 13, 14, np.nan, np.nan, 23, 45])\n",
    "print(s)\n",
    "print('\\n以0填充缺失值')\n",
    "s.fillna(0, inplace=True) # inplace=True，在原数据基础上修改\n",
    "print(s)"
   ]
  },
  {
   "cell_type": "code",
   "execution_count": 47,
   "metadata": {},
   "outputs": [
    {
     "name": "stdout",
     "output_type": "stream",
     "text": [
      "0    11.0\n",
      "1    12.0\n",
      "2    13.0\n",
      "3    14.0\n",
      "4     NaN\n",
      "5     NaN\n",
      "6    23.0\n",
      "7    45.0\n",
      "dtype: float64\n",
      "0     NaN\n",
      "1     NaN\n",
      "2     NaN\n",
      "3    14.0\n",
      "4     NaN\n",
      "5     NaN\n",
      "6    23.0\n",
      "7    45.0\n",
      "dtype: float64\n"
     ]
    }
   ],
   "source": [
    "# replace\n",
    "s = pd.Series([11, 12, 13, 14, np.nan, np.nan, 23, 45])\n",
    "print(s)\n",
    "s.replace([11, 12, 13], np.nan, inplace=True)\n",
    "print(s)"
   ]
  },
  {
   "cell_type": "markdown",
   "metadata": {},
   "source": [
    "### 缺失值处理思路：插补\n",
    "* 均值/中位数/众数:mean/median/mode\n",
    "* 临近值插补:ffill/bfill\n",
    "* 插值法:拉格朗日插值法\n",
    "\n",
    "如果缺失比例较小(个位百分比)，一般直接删除；缺失比例较大再考虑插值法"
   ]
  },
  {
   "cell_type": "code",
   "execution_count": 48,
   "metadata": {
    "scrolled": true
   },
   "outputs": [
    {
     "name": "stdout",
     "output_type": "stream",
     "text": [
      "0     11.0\n",
      "1     12.0\n",
      "2     13.0\n",
      "3     14.0\n",
      "4      NaN\n",
      "5      NaN\n",
      "6     23.0\n",
      "7     45.0\n",
      "8     11.0\n",
      "9     11.0\n",
      "10    11.0\n",
      "dtype: float64\n",
      "\n",
      "均值填充\n",
      " 0     11.000000\n",
      "1     12.000000\n",
      "2     13.000000\n",
      "3     14.000000\n",
      "4     16.777778\n",
      "5     16.777778\n",
      "6     23.000000\n",
      "7     45.000000\n",
      "8     11.000000\n",
      "9     11.000000\n",
      "10    11.000000\n",
      "dtype: float64\n",
      "\n",
      "中位数填充\n",
      " 0     11.0\n",
      "1     12.0\n",
      "2     13.0\n",
      "3     14.0\n",
      "4     12.0\n",
      "5     12.0\n",
      "6     23.0\n",
      "7     45.0\n",
      "8     11.0\n",
      "9     11.0\n",
      "10    11.0\n",
      "dtype: float64\n",
      "\n",
      "众数填充\n",
      " 0     11.0\n",
      "1     12.0\n",
      "2     13.0\n",
      "3     14.0\n",
      "4     11.0\n",
      "5     11.0\n",
      "6     23.0\n",
      "7     45.0\n",
      "8     11.0\n",
      "9     11.0\n",
      "10    11.0\n",
      "dtype: float64\n",
      "\n",
      "向前填充\n",
      " 0     11.0\n",
      "1     12.0\n",
      "2     13.0\n",
      "3     14.0\n",
      "4     14.0\n",
      "5     14.0\n",
      "6     23.0\n",
      "7     45.0\n",
      "8     11.0\n",
      "9     11.0\n",
      "10    11.0\n",
      "dtype: float64\n",
      "\n",
      "向后填充\n",
      " 0     11.0\n",
      "1     12.0\n",
      "2     13.0\n",
      "3     14.0\n",
      "4     23.0\n",
      "5     23.0\n",
      "6     23.0\n",
      "7     45.0\n",
      "8     11.0\n",
      "9     11.0\n",
      "10    11.0\n",
      "dtype: float64\n"
     ]
    }
   ],
   "source": [
    "# 均值/中位数/众数\n",
    "\n",
    "s = pd.Series([11, 12, 13, 14, np.nan, np.nan, 23, 45, 11, 11, 11])\n",
    "print(s)\n",
    "print('\\n均值填充\\n', s.fillna(s.mean()))\n",
    "print('\\n中位数填充\\n', s.fillna(s.median()))\n",
    "print('\\n众数填充\\n', s.fillna(s.mode()[0]))\n",
    "\n",
    "# 临近值\n",
    "# 临近值即为向前填充ffill/向后填充bfill\n",
    "print('\\n向前填充\\n', s.fillna(method='ffill'))\n",
    "print('\\n向后填充\\n', s.fillna(method='bfill'))"
   ]
  },
  {
   "cell_type": "code",
   "execution_count": 49,
   "metadata": {},
   "outputs": [
    {
     "name": "stdout",
     "output_type": "stream",
     "text": [
      "         2\n",
      "-0.1111 x + 0.3333 x + 10\n",
      "2.222222222222223\n"
     ]
    },
    {
     "data": {
      "image/png": "[encoded data removed]",
      "text/plain": [
       "<Figure size 432x288 with 1 Axes>"
      ]
     },
     "metadata": {
      "needs_background": "light"
     },
     "output_type": "display_data"
    }
   ],
   "source": [
    "# 拉格朗日插值法\n",
    "\n",
    "from scipy.interpolate import lagrange\n",
    "x = [3, 6, 9]\n",
    "y = [10, 8, 4]\n",
    "plt.scatter(x, y)\n",
    "\n",
    "# lagrange()输出一个多项式的n个系数，y=-0.1111x**2+0.3333x+10\n",
    "print(lagrange(x, y))\n",
    "print(lagrange(x, y)(10)) # 根据传入的x&y，插值找到x=10对应的y"
   ]
  },
  {
   "cell_type": "markdown",
   "metadata": {},
   "source": [
    "# 异常值处理\n",
    "异常值，也称“离群点”，是指样本中的个别值，其数值明显偏离其余的观测值。异常值的分析也称离群点的分析。  \n",
    "\n",
    "## 异常值分析：3σ原则/箱形图分析\n",
    "### 3σ原则\n",
    "1. 3σ原则：如果数据服从正态分布，异常值被定义为一组测定值中与平均值的偏差超过3倍标准差的值。\n",
    "2. 在正态分布的假设下，距离平均值3σ之外的值出现的概率为P( |x-μ| > σ) ≤ 0.003，属于极个别的小概率事件\n",
    "3. 如果数据不服从正态分布，也可以用远离平均值的多少倍标准差来描述\n",
    "\n"
   ]
  },
  {
   "cell_type": "code",
   "execution_count": 50,
   "metadata": {},
   "outputs": [
    {
     "name": "stdout",
     "output_type": "stream",
     "text": [
      "KstestResult(statistic=0.006681218099175323, pvalue=0.7634332374968773)\n"
     ]
    },
    {
     "data": {
      "image/png": "[encoded data removed]",
      "text/plain": [
       "<Figure size 720x432 with 2 Axes>"
      ]
     },
     "metadata": {
      "needs_background": "light"
     },
     "output_type": "display_data"
    }
   ],
   "source": [
    "data = pd.Series(np.random.randn(10000)*100) # 创建数据\n",
    "print(stats.kstest(data, 'norm', (data.mean(), data.std()))) # 正态性检验，p>0.05，正态分布\n",
    "\n",
    "# 绘图\n",
    "plt.rcParams['font.sans-serif']=['Microsoft YaHei']\n",
    "plt.rcParams['axes.unicode_minus']=False\n",
    "fig = plt.figure(figsize=(10, 6))\n",
    "ax1 = fig.add_subplot(2, 1, 1)\n",
    "data.plot(kind='kde', grid=True, style='-k', title='密度曲线')\n",
    "plt.axvline(3*data.std(), color='r', linestyle='--', alpha=0.8) # 绘制两条3σ线\n",
    "plt.axvline(-3*data.std(), color='r', linestyle='--', alpha=0.8)\n",
    "\n",
    "# 查看异常值分布\n",
    "error = data[np.abs(data-data.mean()) > 3*data.std()] # 大于3σ的异常值\n",
    "normal = data[np.abs(data-data.mean()) <= 3*data.std()] # 正常范围值\n",
    "ax2 = fig.add_subplot(2, 1, 2)\n",
    "plt.scatter(error.index, error, color='r', alpha=0.8)\n",
    "plt.scatter(normal.index, normal, color='k', alpha=0.7)\n",
    "plt.grid()"
   ]
  },
  {
   "cell_type": "markdown",
   "metadata": {},
   "source": [
    "### 箱形图分析（推荐）\n",
    "\n",
    "\n",
    "1. 箱形图使用分位数进行筛选，箱形图最大的优点在于**不受异常值的影响，能够准确稳定描绘出数据的离散分布情况**\n",
    "2. 箱形图的五个关键数  \n",
    "    * 下四分位数Q1\n",
    "    * 中位数Q2\n",
    "    * 上四分位数Q3\n",
    "    * 上限：上限是非异常范围内的最大值。四分位距IQR=Q3-Q1，上限=Q3+1.5*IQR\n",
    "    * 下限：下限是非异常范围内的最小值。下限=Q1-1.5*IQR\n",
    "\n",
    "3. 箱形图使用四分位数进行筛选异常值，筛选结果略大于3σ原则\n",
    "4. 箱形图的价值\n",
    "    * 直观明了地识别数据批中的异常值\n",
    "    * 利用箱线图判断数据批的偏态和尾重\n",
    "    * 利用箱线图比较几批数据的形状"
   ]
  },
  {
   "cell_type": "code",
   "execution_count": 51,
   "metadata": {},
   "outputs": [
    {
     "name": "stdout",
     "output_type": "stream",
     "text": [
      "异常值共93条\n"
     ]
    },
    {
     "data": {
      "image/png": "[encoded data removed]",
      "text/plain": [
       "<Figure size 1440x432 with 2 Axes>"
      ]
     },
     "metadata": {
      "needs_background": "light"
     },
     "output_type": "display_data"
    }
   ],
   "source": [
    "fig = plt.figure(figsize=(20, 6))\n",
    "ax1 = fig.add_subplot(2, 1, 1)\n",
    "color = dict(boxes='DarkGreen', whiskers='DarkOrange', medians='DarkBlue', caps='Gray')\n",
    "data.plot.box(vert=False, grid=True, color=color, ax=ax1, label='样本数据')\n",
    "\n",
    "# 统计性描述\n",
    "s = data.describe()\n",
    "q1 = s['25%'] # 下四分位数Q1\n",
    "q3 = s['75%'] # 上四分位数Q3\n",
    "iqr = q3-q1\n",
    "mi = q1-1.5*iqr # 下限\n",
    "ma = q3+1.5*iqr # 上限\n",
    "\n",
    "# 查看异常值分布\n",
    "error = data[(data<mi) | (data>ma)] # 大于上限，小于下限的异常值\n",
    "normal = data[(data>=mi) & (data<=ma)] # 正常范围值\n",
    "print('异常值共%i条' % len(error))\n",
    "ax2 = fig.add_subplot(2, 1, 2)\n",
    "plt.scatter(error.index, error, color='r', alpha=0.8)\n",
    "plt.scatter(normal.index, normal, color='k', alpha=0.7)\n",
    "plt.grid()"
   ]
  },
  {
   "cell_type": "markdown",
   "metadata": {},
   "source": [
    "## 异常值处理方法：删除/修正填补"
   ]
  },
  {
   "cell_type": "code",
   "execution_count": null,
   "metadata": {},
   "outputs": [],
   "source": []
  },
  {
   "cell_type": "markdown",
   "metadata": {},
   "source": [
    "# 数据归一化/标准化\n",
    "1. **数据标准化(normalization)**是将数据按比例缩放，使之落入一个小的缩放区间。在某些比较和评价的指标处理中常用，去除数据的单位限制，使其转化为无量纲的纯数值，便于不同单位或量级的指标进行比较和加权。\n",
    "2. 数据标准化最典型的就是**归一化处理**(也称0-1标准化)，即将数据统一映射到[0, 1]区间上。\n",
    "3. 标准化还常用**Z-Score标准化**"
   ]
  },
  {
   "cell_type": "markdown",
   "metadata": {},
   "source": [
    "## 0-1标准化\n",
    "1. 也称**min-max标准化/线性函数归一化/离差标准化**  \n",
    "2. 将数据的最大值&最小值记录下来，并通过Max-Min最为基数(Max=1, Min=0)进行数据的归一化处理，处理后的数据区间为[0, 1]\n",
    "3. 公式：$ x = (x-Min)/(Max-Min) $"
   ]
  },
  {
   "cell_type": "code",
   "execution_count": 52,
   "metadata": {},
   "outputs": [
    {
     "name": "stdout",
     "output_type": "stream",
     "text": [
      "      value1     value2\n",
      "0  11.543155  19.067561\n",
      "1  16.768294  62.535224\n",
      "2  18.180665  53.444429\n",
      "3   5.310834  34.140289\n",
      "4  13.449862  36.382373\n"
     ]
    },
    {
     "data": {
      "text/html": [
       "<div>\n",
       "<style scoped>\n",
       "    .dataframe tbody tr th:only-of-type {\n",
       "        vertical-align: middle;\n",
       "    }\n",
       "\n",
       "    .dataframe tbody tr th {\n",
       "        vertical-align: top;\n",
       "    }\n",
       "\n",
       "    .dataframe thead th {\n",
       "        text-align: right;\n",
       "    }\n",
       "</style>\n",
       "<table border=\"1\" class=\"dataframe\">\n",
       "  <thead>\n",
       "    <tr style=\"text-align: right;\">\n",
       "      <th></th>\n",
       "      <th>value1</th>\n",
       "      <th>value2</th>\n",
       "      <th>value1_n</th>\n",
       "      <th>value2_n</th>\n",
       "    </tr>\n",
       "  </thead>\n",
       "  <tbody>\n",
       "    <tr>\n",
       "      <th>0</th>\n",
       "      <td>11.543155</td>\n",
       "      <td>19.067561</td>\n",
       "      <td>0.617191</td>\n",
       "      <td>0.201410</td>\n",
       "    </tr>\n",
       "    <tr>\n",
       "      <th>1</th>\n",
       "      <td>16.768294</td>\n",
       "      <td>62.535224</td>\n",
       "      <td>0.918544</td>\n",
       "      <td>0.738392</td>\n",
       "    </tr>\n",
       "    <tr>\n",
       "      <th>2</th>\n",
       "      <td>18.180665</td>\n",
       "      <td>53.444429</td>\n",
       "      <td>1.000000</td>\n",
       "      <td>0.626088</td>\n",
       "    </tr>\n",
       "    <tr>\n",
       "      <th>3</th>\n",
       "      <td>5.310834</td>\n",
       "      <td>34.140289</td>\n",
       "      <td>0.257751</td>\n",
       "      <td>0.387612</td>\n",
       "    </tr>\n",
       "    <tr>\n",
       "      <th>4</th>\n",
       "      <td>13.449862</td>\n",
       "      <td>36.382373</td>\n",
       "      <td>0.727158</td>\n",
       "      <td>0.415310</td>\n",
       "    </tr>\n",
       "    <tr>\n",
       "      <th>5</th>\n",
       "      <td>10.871336</td>\n",
       "      <td>52.062144</td>\n",
       "      <td>0.578445</td>\n",
       "      <td>0.609011</td>\n",
       "    </tr>\n",
       "    <tr>\n",
       "      <th>6</th>\n",
       "      <td>16.407396</td>\n",
       "      <td>13.957188</td>\n",
       "      <td>0.897729</td>\n",
       "      <td>0.138278</td>\n",
       "    </tr>\n",
       "    <tr>\n",
       "      <th>7</th>\n",
       "      <td>17.500526</td>\n",
       "      <td>30.637826</td>\n",
       "      <td>0.960774</td>\n",
       "      <td>0.344344</td>\n",
       "    </tr>\n",
       "    <tr>\n",
       "      <th>8</th>\n",
       "      <td>8.793831</td>\n",
       "      <td>2.763819</td>\n",
       "      <td>0.458628</td>\n",
       "      <td>0.000000</td>\n",
       "    </tr>\n",
       "    <tr>\n",
       "      <th>9</th>\n",
       "      <td>0.841687</td>\n",
       "      <td>83.711928</td>\n",
       "      <td>0.000000</td>\n",
       "      <td>1.000000</td>\n",
       "    </tr>\n",
       "  </tbody>\n",
       "</table>\n",
       "</div>"
      ],
      "text/plain": [
       "      value1     value2  value1_n  value2_n\n",
       "0  11.543155  19.067561  0.617191  0.201410\n",
       "1  16.768294  62.535224  0.918544  0.738392\n",
       "2  18.180665  53.444429  1.000000  0.626088\n",
       "3   5.310834  34.140289  0.257751  0.387612\n",
       "4  13.449862  36.382373  0.727158  0.415310\n",
       "5  10.871336  52.062144  0.578445  0.609011\n",
       "6  16.407396  13.957188  0.897729  0.138278\n",
       "7  17.500526  30.637826  0.960774  0.344344\n",
       "8   8.793831   2.763819  0.458628  0.000000\n",
       "9   0.841687  83.711928  0.000000  1.000000"
      ]
     },
     "execution_count": 52,
     "metadata": {},
     "output_type": "execute_result"
    }
   ],
   "source": [
    "df = pd.DataFrame({\n",
    "    'value1': np.random.rand(10)*20,\n",
    "    'value2': np.random.rand(10)*100\n",
    "    })\n",
    "print(df.head())\n",
    "\n",
    "def f(df, *cols):\n",
    "    df_n = df.copy()\n",
    "    for col in cols:\n",
    "        ma = df_n[col].max() # 该列最大值\n",
    "        mi = df_n[col].min() # 该列最小值\n",
    "        df_n[col+'_n'] = (df_n[col]-mi)/(ma-mi) # 0-1标准化\n",
    "    return df_n\n",
    "df_n = f(df, 'value1', 'value2')\n",
    "df_n"
   ]
  },
  {
   "cell_type": "markdown",
   "metadata": {},
   "source": [
    "## Z-Score标准化\n",
    "1. Z分数(Z-Score)是一个分数与平均数的差再除以标准差的过程。把原始数据转化为符合标准正态分布\n",
    "2. Z值的量代表着原始分数与母体平均值之间的距离，以标准差为单位进行计算。在原始分数低于平均值时Z为负数，反之为正数\n",
    "3. 在**分类/聚类**算法中需要使用距离来度量相似性时，常用Z-Score标准化\n",
    "3. 数学意义：一个给定分数距离平均数多少个标准差\n",
    "4. 公式：$ z = (x-\\mu)/\\sigma $"
   ]
  },
  {
   "cell_type": "code",
   "execution_count": 53,
   "metadata": {},
   "outputs": [
    {
     "name": "stdout",
     "output_type": "stream",
     "text": [
      "      value1     value2\n",
      "0  19.052423  72.202239\n",
      "1  18.936054  61.427057\n",
      "2  18.763608  66.736645\n",
      "3   6.542528  42.974411\n",
      "4   8.863593  50.991688\n",
      "      value1     value2  value1_zn  value2_zn\n",
      "0  19.052423  72.202239   1.079488   0.439957\n",
      "1  18.936054  61.427057   1.063152  -0.008201\n",
      "2  18.763608  66.736645   1.038943   0.212633\n",
      "3   6.542528  42.974411  -0.676671  -0.775677\n",
      "4   8.863593  50.991688  -0.350836  -0.442226\n",
      "5   0.678760  24.216887  -1.499836  -1.555834\n",
      "6  10.032977  80.859149  -0.186676   0.800012\n",
      "7  19.706714  90.061388   1.171338   1.182748\n",
      "8   4.461057  31.609096  -0.968871  -1.248380\n",
      "9   6.589832  95.163838  -0.670030   1.394968\n"
     ]
    }
   ],
   "source": [
    "df = pd.DataFrame({\n",
    "    'value1': np.random.rand(10)*20,\n",
    "    'value2': np.random.rand(10)*100\n",
    "    })\n",
    "print(df.head())\n",
    "\n",
    "def f_z(df, *cols):\n",
    "    df_n = df.copy()\n",
    "    for col in cols:\n",
    "        u = df_n[col].mean() # 平均数\n",
    "        std = df_n[col].std() # 标准差\n",
    "        df_n[col+'_zn'] = (df_n[col]-u)/std # Z-Score标准化\n",
    "    return df_n\n",
    "df_n = f_z(df, 'value1', 'value2')\n",
    "print(df_n)"
   ]
  },
  {
   "cell_type": "markdown",
   "metadata": {},
   "source": [
    "# 数据连续属性离散化\n",
    "1. 将连续属性变化为分散属性，即为**连续属性离散化**\n",
    "2. 在数值的取值范围内设定若干个**离散划分点**，将取值范围划分为一些离散化的区间，最后用不同的符号或正数值代表每个子区间中的数值\n",
    "3. **等宽法/等频法**"
   ]
  },
  {
   "cell_type": "markdown",
   "metadata": {},
   "source": [
    "## 等宽法\n",
    "将数据均匀划分为n等份，每份的间距相等(pandas.cut())\n",
    "* right=False，将默认的右闭区间改为左闭区间\n",
    "* labels，为每个分组添加标签"
   ]
  },
  {
   "cell_type": "code",
   "execution_count": 54,
   "metadata": {},
   "outputs": [
    {
     "data": {
      "text/plain": [
       "[(18, 25], (18, 25], (18, 25], (18, 25], (25, 35], ..., (35, 60], (35, 60], (35, 60], (60, 100], (60, 100]]\n",
       "Length: 11\n",
       "Categories (4, interval[int64]): [(18, 25] < (25, 35] < (35, 60] < (60, 100]]"
      ]
     },
     "execution_count": 54,
     "metadata": {},
     "output_type": "execute_result"
    }
   ],
   "source": [
    "ages = [20, 22, 23, 25, 27, 37, 38, 50, 60, 63, 78]\n",
    "\n",
    "# 划分为'18-25','26-35','36-60','61-'几个面元\n",
    "bins = [18, 25, 35, 60, 100]\n",
    "cats = pd.cut(ages, bins) # 返回每个数值对应区间的tuple\n",
    "# cats = pd.cut(ages, bins, right=False) # 默认为右闭区间，设置right=False改为左闭区间\n",
    "cats"
   ]
  },
  {
   "cell_type": "code",
   "execution_count": 55,
   "metadata": {},
   "outputs": [
    {
     "name": "stdout",
     "output_type": "stream",
     "text": [
      "[0 0 0 0 1 2 2 2 2 3 3]\n",
      "IntervalIndex([(18, 25], (25, 35], (35, 60], (60, 100]]\n",
      "              closed='right',\n",
      "              dtype='interval[int64]')\n",
      "(35, 60]     4\n",
      "(18, 25]     4\n",
      "(60, 100]    2\n",
      "(25, 35]     1\n",
      "dtype: int64\n"
     ]
    }
   ],
   "source": [
    "print(cats.codes) # 查看每个数值对应的区间(代号注释)，返回一个ndarray\n",
    "print(cats.categories) # 查看每个数值对应的区间，返回一个index\n",
    "print(pd.value_counts(cats)) # 区间计数"
   ]
  },
  {
   "cell_type": "code",
   "execution_count": 56,
   "metadata": {},
   "outputs": [
    {
     "name": "stdout",
     "output_type": "stream",
     "text": [
      "[young, young, young, young, youngadult, ..., middleaged, middleaged, middleaged, senior, senior]\n",
      "Length: 11\n",
      "Categories (4, object): [young < youngadult < middleaged < senior]\n"
     ]
    }
   ],
   "source": [
    "# 为每个分组添加标签\n",
    "group_name = ['young', 'youngadult', 'middleaged', 'senior']\n",
    "print(pd.cut(ages, bins, labels=group_name))"
   ]
  },
  {
   "cell_type": "code",
   "execution_count": 57,
   "metadata": {},
   "outputs": [
    {
     "name": "stdout",
     "output_type": "stream",
     "text": [
      "   ages\n",
      "0    20\n",
      "1    22\n",
      "2    23\n",
      "3    25\n",
      "4    27\n",
      "    ages     ages_a\n",
      "0     20   (18, 25]\n",
      "1     22   (18, 25]\n",
      "2     23   (18, 25]\n",
      "3     25   (18, 25]\n",
      "4     27   (25, 35]\n",
      "5     37   (35, 60]\n",
      "6     38   (35, 60]\n",
      "7     50   (35, 60]\n",
      "8     60   (35, 60]\n",
      "9     63  (60, 100]\n",
      "10    78  (60, 100]\n",
      "(18, 25]     4\n",
      "(25, 35]     1\n",
      "(35, 60]     4\n",
      "(60, 100]    2\n",
      "Name: ages, dtype: int64\n"
     ]
    }
   ],
   "source": [
    "# 在DataFrame中进行操作\n",
    "\n",
    "df = pd.DataFrame({'ages': ages})\n",
    "print(df.head())\n",
    "group_name = ['young', 'youngadult', 'middleaged', 'senior']\n",
    "s = pd.cut(df['ages'], bins)\n",
    "df['ages_a'] = s # 分组\n",
    "print(df)\n",
    "ages_sort = s.value_counts(sort=False) # 排序\n",
    "print(ages_sort)"
   ]
  },
  {
   "cell_type": "markdown",
   "metadata": {},
   "source": [
    "## 等频法\n",
    "1. 将相同数量的记录放进每个区间，pandas.qcut()\n",
    "2. pandas.qcut()根据样本分位数对数据进行面元划分，得到**大小基本相等**的面元，但不能保证每个面元含有相同数据个数"
   ]
  },
  {
   "cell_type": "code",
   "execution_count": 58,
   "metadata": {
    "scrolled": false
   },
   "outputs": [
    {
     "name": "stdout",
     "output_type": "stream",
     "text": [
      "0    0.500990\n",
      "1    0.502304\n",
      "2    0.264542\n",
      "3    0.323269\n",
      "4   -0.781570\n",
      "dtype: float64 \n",
      "\n",
      "0                  (-0.025, 0.708]\n",
      "1                  (-0.025, 0.708]\n",
      "2                  (-0.025, 0.708]\n",
      "3                  (-0.025, 0.708]\n",
      "4    (-2.4099999999999997, -0.741]\n",
      "dtype: category\n",
      "Categories (4, interval[float64]): [(-2.4099999999999997, -0.741] < (-0.741, -0.025] < (-0.025, 0.708] < (0.708, 2.586]] \n",
      "\n",
      "(0.708, 2.586]                   25\n",
      "(-0.025, 0.708]                  25\n",
      "(-0.741, -0.025]                 25\n",
      "(-2.4099999999999997, -0.741]    25\n",
      "dtype: int64\n"
     ]
    }
   ],
   "source": [
    "s = pd.Series(np.random.randn(100))\n",
    "print(s.head(), '\\n')\n",
    "cats = pd.qcut(s, 4) # 依照四分位数进行切割\n",
    "# 也可以设置自定义分位数进行切割，前闭后闭\n",
    "# cats = pd.qcut(s, [0, 0.1, 0.5, 0.9, 1])\n",
    "print(cats.head(), '\\n')\n",
    "print(pd.value_counts(cats))\n"
   ]
  },
  {
   "cell_type": "markdown",
   "metadata": {},
   "source": [
    "# 参考链接\n",
    "1. jupyter notebook中matplotlib绘图包的中文乱码问题：https://blog.csdn.net/u014465934/article/details/80377470\n",
    "2. 搞懂箱形图分析，快速识别异常值：https://blog.csdn.net/clairliu/article/details/79217546\n",
    "3. 如何在jupyter Notebook中包含图像或图片？https://vimsky.com/article/3721.html\n",
    "4. 在jupyter notebook 中编辑公式https://www.cnblogs.com/laoduan/p/7641698.html"
   ]
  }
 ],
 "metadata": {
  "kernelspec": {
   "display_name": "Python 3",
   "language": "python",
   "name": "python3"
  },
  "language_info": {
   "codemirror_mode": {
    "name": "ipython",
    "version": 3
   },
   "file_extension": ".py",
   "mimetype": "text/x-python",
   "name": "python",
   "nbconvert_exporter": "python",
   "pygments_lexer": "ipython3",
   "version": "3.6.8"
  },
  "toc": {
   "base_numbering": 1,
   "nav_menu": {},
   "number_sections": true,
   "sideBar": true,
   "skip_h1_title": false,
   "title_cell": "Table of Contents",
   "title_sidebar": "Contents",
   "toc_cell": false,
   "toc_position": {
    "height": "calc(100% - 180px)",
    "left": "10px",
    "top": "150px",
    "width": "202px"
   },
   "toc_section_display": true,
   "toc_window_display": true
  }
 },
 "nbformat": 4,
 "nbformat_minor": 2
}
